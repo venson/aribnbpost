{
 "cells": [
  {
   "cell_type": "code",
   "execution_count": 6,
   "id": "critical-wilderness",
   "metadata": {
    "papermill": {
     "duration": 4.312769,
     "end_time": "2021-05-27T08:02:34.134725",
     "exception": false,
     "start_time": "2021-05-27T08:02:29.821956",
     "status": "completed"
    },
    "tags": []
   },
   "outputs": [],
   "source": [
    "# This Python 3 environment comes with many helpful analytics libraries installed\n",
    "# It is defined by the kaggle/python Docker image: https://github.com/kaggle/docker-python\n",
    "# For example, here's several helpful packages to load\n",
    "\n",
    "import numpy as np # linear algebra\n",
    "import pandas as pd # data processing, CSV file I/O (e.g. pd.read_csv)\n",
    "import matplotlib.pyplot as plt\n",
    "import seaborn as sns\n",
    "from sklearn.model_selection import train_test_split\n",
    "from sklearn.linear_model import LinearRegression\n",
    "# Input data files are available in the read-only \"../input/\" directory\n",
    "# For example, running this (by clicking run or pressing Shift+Enter) will list all files under the input directory\n",
    "\n",
    "# You can write up to 20GB to the current directory (/kaggle/working/) that gets preserved as output when you create a version using \"Save & Run All\" \n",
    "# You can also write temporary files to /kaggle/temp/, but they won't be saved outside of the current session\n",
    "\n",
    "listings_df = pd.read_csv(\"input/seattle/listings.csv\", parse_dates =['host_since'])\n",
    "calendar_df = pd.read_csv(\"input/seattle/calendar.csv\", parse_dates = ['date'])\n",
    "reviews_df = pd.read_csv(\"input/seattle/reviews.csv\")"
   ]
  },
  {
   "cell_type": "code",
   "execution_count": 7,
   "id": "duplicate-jefferson",
   "metadata": {
    "papermill": {
     "duration": 0.030762,
     "end_time": "2021-05-27T08:02:34.189620",
     "exception": false,
     "start_time": "2021-05-27T08:02:34.158858",
     "status": "completed"
    },
    "tags": []
   },
   "outputs": [],
   "source": [
    "#display more rows and columns\n",
    "pd.set_option('display.max_rows', 100) \n",
    "pd.set_option('display.max_columns', 100)"
   ]
  },
  {
   "cell_type": "markdown",
   "id": "disturbed-baltimore",
   "metadata": {
    "papermill": {
     "duration": 0.023571,
     "end_time": "2021-05-27T08:02:34.237545",
     "exception": false,
     "start_time": "2021-05-27T08:02:34.213974",
     "status": "completed"
    },
    "tags": []
   },
   "source": [
    "# Business Understanding\n",
    "1. What service does airbnb provide?\n",
    "    Airbnb provides a platform for hosts to accommodate guests with short-term lodging and tourism-related activities.([wikipedia](https://en.wikipedia.org/wiki/Airbnb))\n",
    "2. Who are the main customers for airbnb?\n",
    "    1. hosts who provide the place to loding.\n",
    "    2. guests who will take the place.\n",
    "3. Airbnb grow really fast, what does airbnb provide compare to traditional hotel.\n",
    "    Or what do the customers on airbnb interest in or care about?"
   ]
  },
  {
   "cell_type": "code",
   "execution_count": 10,
   "id": "dba0a79a",
   "metadata": {},
   "outputs": [
    {
     "name": "stdout",
     "output_type": "stream",
     "text": [
      "The shape of data imported from listings.csv is (3818, 92)\n",
      "The shape of data imported from calendar.csv is (1393570, 4)\n",
      "The shape of data imported from reviews.csv is (84849, 6)\n"
     ]
    }
   ],
   "source": [
    "print('The shape of data imported from listings.csv is {}'.format(listings_df.shape))\n",
    "print('The shape of data imported from calendar.csv is {}'.format(calendar_df.shape))\n",
    "print('The shape of data imported from reviews.csv is {}'.format(reviews_df.shape))\n"
   ]
  },
  {
   "cell_type": "markdown",
   "id": "3818f371-59a5-4dd7-ae29-383e3ef4f12e",
   "metadata": {},
   "source": [
    "# Data Understanding\n",
    "#### 1. listings_df contains the information for each host. It got 97 columns. We will see the column-names and the first 5 lines to try to get a clue."
   ]
  },
  {
   "cell_type": "code",
   "execution_count": 11,
   "id": "ad0e9204-f00b-490d-94a2-30a29256179f",
   "metadata": {},
   "outputs": [
    {
     "name": "stdout",
     "output_type": "stream",
     "text": [
      "Index(['id', 'listing_url', 'scrape_id', 'last_scraped', 'name', 'summary',\n",
      "       'space', 'description', 'experiences_offered', 'neighborhood_overview',\n",
      "       'notes', 'transit', 'thumbnail_url', 'medium_url', 'picture_url',\n",
      "       'xl_picture_url', 'host_id', 'host_url', 'host_name', 'host_since',\n",
      "       'host_location', 'host_about', 'host_response_time',\n",
      "       'host_response_rate', 'host_acceptance_rate', 'host_is_superhost',\n",
      "       'host_thumbnail_url', 'host_picture_url', 'host_neighbourhood',\n",
      "       'host_listings_count', 'host_total_listings_count',\n",
      "       'host_verifications', 'host_has_profile_pic', 'host_identity_verified',\n",
      "       'street', 'neighbourhood', 'neighbourhood_cleansed',\n",
      "       'neighbourhood_group_cleansed', 'city', 'state', 'zipcode', 'market',\n",
      "       'smart_location', 'country_code', 'country', 'latitude', 'longitude',\n",
      "       'is_location_exact', 'property_type', 'room_type', 'accommodates',\n",
      "       'bathrooms', 'bedrooms', 'beds', 'bed_type', 'amenities', 'square_feet',\n",
      "       'price', 'weekly_price', 'monthly_price', 'security_deposit',\n",
      "       'cleaning_fee', 'guests_included', 'extra_people', 'minimum_nights',\n",
      "       'maximum_nights', 'calendar_updated', 'has_availability',\n",
      "       'availability_30', 'availability_60', 'availability_90',\n",
      "       'availability_365', 'calendar_last_scraped', 'number_of_reviews',\n",
      "       'first_review', 'last_review', 'review_scores_rating',\n",
      "       'review_scores_accuracy', 'review_scores_cleanliness',\n",
      "       'review_scores_checkin', 'review_scores_communication',\n",
      "       'review_scores_location', 'review_scores_value', 'requires_license',\n",
      "       'license', 'jurisdiction_names', 'instant_bookable',\n",
      "       'cancellation_policy', 'require_guest_profile_picture',\n",
      "       'require_guest_phone_verification', 'calculated_host_listings_count',\n",
      "       'reviews_per_month'],\n",
      "      dtype='object')\n"
     ]
    }
   ],
   "source": [
    "print(listings_df.columns)"
   ]
  },
  {
   "cell_type": "code",
   "execution_count": 25,
   "id": "4f9c7c79-6150-4801-b06f-1dbb3acf0463",
   "metadata": {},
   "outputs": [
    {
     "data": {
      "text/html": [
       "<div>\n",
       "<style scoped>\n",
       "    .dataframe tbody tr th:only-of-type {\n",
       "        vertical-align: middle;\n",
       "    }\n",
       "\n",
       "    .dataframe tbody tr th {\n",
       "        vertical-align: top;\n",
       "    }\n",
       "\n",
       "    .dataframe thead th {\n",
       "        text-align: right;\n",
       "    }\n",
       "</style>\n",
       "<table border=\"1\" class=\"dataframe\">\n",
       "  <thead>\n",
       "    <tr style=\"text-align: right;\">\n",
       "      <th></th>\n",
       "      <th>id</th>\n",
       "      <th>listing_url</th>\n",
       "      <th>scrape_id</th>\n",
       "      <th>last_scraped</th>\n",
       "      <th>name</th>\n",
       "      <th>summary</th>\n",
       "      <th>space</th>\n",
       "      <th>description</th>\n",
       "      <th>experiences_offered</th>\n",
       "      <th>neighborhood_overview</th>\n",
       "      <th>notes</th>\n",
       "      <th>transit</th>\n",
       "      <th>thumbnail_url</th>\n",
       "      <th>medium_url</th>\n",
       "      <th>picture_url</th>\n",
       "      <th>xl_picture_url</th>\n",
       "      <th>host_id</th>\n",
       "      <th>host_url</th>\n",
       "      <th>host_name</th>\n",
       "      <th>host_since</th>\n",
       "      <th>host_location</th>\n",
       "      <th>host_about</th>\n",
       "      <th>host_response_time</th>\n",
       "      <th>host_response_rate</th>\n",
       "      <th>host_acceptance_rate</th>\n",
       "      <th>host_is_superhost</th>\n",
       "      <th>host_thumbnail_url</th>\n",
       "      <th>host_picture_url</th>\n",
       "      <th>host_neighbourhood</th>\n",
       "      <th>host_listings_count</th>\n",
       "      <th>host_total_listings_count</th>\n",
       "      <th>host_verifications</th>\n",
       "      <th>host_has_profile_pic</th>\n",
       "      <th>host_identity_verified</th>\n",
       "      <th>street</th>\n",
       "      <th>neighbourhood</th>\n",
       "      <th>neighbourhood_cleansed</th>\n",
       "      <th>neighbourhood_group_cleansed</th>\n",
       "      <th>city</th>\n",
       "      <th>state</th>\n",
       "      <th>zipcode</th>\n",
       "      <th>market</th>\n",
       "      <th>smart_location</th>\n",
       "      <th>country_code</th>\n",
       "      <th>country</th>\n",
       "      <th>latitude</th>\n",
       "      <th>longitude</th>\n",
       "      <th>is_location_exact</th>\n",
       "      <th>property_type</th>\n",
       "      <th>room_type</th>\n",
       "      <th>accommodates</th>\n",
       "      <th>bathrooms</th>\n",
       "      <th>bedrooms</th>\n",
       "      <th>beds</th>\n",
       "      <th>bed_type</th>\n",
       "      <th>amenities</th>\n",
       "      <th>square_feet</th>\n",
       "      <th>price</th>\n",
       "      <th>weekly_price</th>\n",
       "      <th>monthly_price</th>\n",
       "      <th>security_deposit</th>\n",
       "      <th>cleaning_fee</th>\n",
       "      <th>guests_included</th>\n",
       "      <th>extra_people</th>\n",
       "      <th>minimum_nights</th>\n",
       "      <th>maximum_nights</th>\n",
       "      <th>calendar_updated</th>\n",
       "      <th>has_availability</th>\n",
       "      <th>availability_30</th>\n",
       "      <th>availability_60</th>\n",
       "      <th>availability_90</th>\n",
       "      <th>availability_365</th>\n",
       "      <th>calendar_last_scraped</th>\n",
       "      <th>number_of_reviews</th>\n",
       "      <th>first_review</th>\n",
       "      <th>last_review</th>\n",
       "      <th>review_scores_rating</th>\n",
       "      <th>review_scores_accuracy</th>\n",
       "      <th>review_scores_cleanliness</th>\n",
       "      <th>review_scores_checkin</th>\n",
       "      <th>review_scores_communication</th>\n",
       "      <th>review_scores_location</th>\n",
       "      <th>review_scores_value</th>\n",
       "      <th>requires_license</th>\n",
       "      <th>license</th>\n",
       "      <th>jurisdiction_names</th>\n",
       "      <th>instant_bookable</th>\n",
       "      <th>cancellation_policy</th>\n",
       "      <th>require_guest_profile_picture</th>\n",
       "      <th>require_guest_phone_verification</th>\n",
       "      <th>calculated_host_listings_count</th>\n",
       "      <th>reviews_per_month</th>\n",
       "    </tr>\n",
       "  </thead>\n",
       "  <tbody>\n",
       "    <tr>\n",
       "      <th>0</th>\n",
       "      <td>241032</td>\n",
       "      <td>https://www.airbnb.com/rooms/241032</td>\n",
       "      <td>20160104002432</td>\n",
       "      <td>2016-01-04</td>\n",
       "      <td>Stylish Queen Anne Apartment</td>\n",
       "      <td>NaN</td>\n",
       "      <td>Make your self at home in this charming one-be...</td>\n",
       "      <td>Make your self at home in this charming one-be...</td>\n",
       "      <td>none</td>\n",
       "      <td>NaN</td>\n",
       "      <td>NaN</td>\n",
       "      <td>NaN</td>\n",
       "      <td>NaN</td>\n",
       "      <td>NaN</td>\n",
       "      <td>https://a1.muscache.com/ac/pictures/67560560/c...</td>\n",
       "      <td>NaN</td>\n",
       "      <td>956883</td>\n",
       "      <td>https://www.airbnb.com/users/show/956883</td>\n",
       "      <td>Maija</td>\n",
       "      <td>2011-08-11</td>\n",
       "      <td>Seattle, Washington, United States</td>\n",
       "      <td>I am an artist, interior designer, and run a s...</td>\n",
       "      <td>within a few hours</td>\n",
       "      <td>96%</td>\n",
       "      <td>100%</td>\n",
       "      <td>f</td>\n",
       "      <td>https://a0.muscache.com/ac/users/956883/profil...</td>\n",
       "      <td>https://a0.muscache.com/ac/users/956883/profil...</td>\n",
       "      <td>Queen Anne</td>\n",
       "      <td>3.0</td>\n",
       "      <td>3.0</td>\n",
       "      <td>['email', 'phone', 'reviews', 'kba']</td>\n",
       "      <td>t</td>\n",
       "      <td>t</td>\n",
       "      <td>Gilman Dr W, Seattle, WA 98119, United States</td>\n",
       "      <td>Queen Anne</td>\n",
       "      <td>West Queen Anne</td>\n",
       "      <td>Queen Anne</td>\n",
       "      <td>Seattle</td>\n",
       "      <td>WA</td>\n",
       "      <td>98119</td>\n",
       "      <td>Seattle</td>\n",
       "      <td>Seattle, WA</td>\n",
       "      <td>US</td>\n",
       "      <td>United States</td>\n",
       "      <td>47.636289</td>\n",
       "      <td>-122.371025</td>\n",
       "      <td>t</td>\n",
       "      <td>Apartment</td>\n",
       "      <td>Entire home/apt</td>\n",
       "      <td>4</td>\n",
       "      <td>1.0</td>\n",
       "      <td>1.0</td>\n",
       "      <td>1.0</td>\n",
       "      <td>Real Bed</td>\n",
       "      <td>{TV,\"Cable TV\",Internet,\"Wireless Internet\",\"A...</td>\n",
       "      <td>NaN</td>\n",
       "      <td>85</td>\n",
       "      <td>NaN</td>\n",
       "      <td>NaN</td>\n",
       "      <td>NaN</td>\n",
       "      <td>0</td>\n",
       "      <td>2</td>\n",
       "      <td>5</td>\n",
       "      <td>1</td>\n",
       "      <td>365</td>\n",
       "      <td>4 weeks ago</td>\n",
       "      <td>t</td>\n",
       "      <td>14</td>\n",
       "      <td>41</td>\n",
       "      <td>71</td>\n",
       "      <td>346</td>\n",
       "      <td>2016-01-04</td>\n",
       "      <td>207</td>\n",
       "      <td>2011-11-01</td>\n",
       "      <td>2016-01-02</td>\n",
       "      <td>95.0</td>\n",
       "      <td>10.0</td>\n",
       "      <td>10.0</td>\n",
       "      <td>10.0</td>\n",
       "      <td>10.0</td>\n",
       "      <td>9.0</td>\n",
       "      <td>10.0</td>\n",
       "      <td>f</td>\n",
       "      <td>NaN</td>\n",
       "      <td>WASHINGTON</td>\n",
       "      <td>f</td>\n",
       "      <td>moderate</td>\n",
       "      <td>f</td>\n",
       "      <td>f</td>\n",
       "      <td>2</td>\n",
       "      <td>4.07</td>\n",
       "    </tr>\n",
       "    <tr>\n",
       "      <th>1</th>\n",
       "      <td>953595</td>\n",
       "      <td>https://www.airbnb.com/rooms/953595</td>\n",
       "      <td>20160104002432</td>\n",
       "      <td>2016-01-04</td>\n",
       "      <td>Bright &amp; Airy Queen Anne Apartment</td>\n",
       "      <td>Chemically sensitive? We've removed the irrita...</td>\n",
       "      <td>Beautiful, hypoallergenic apartment in an extr...</td>\n",
       "      <td>Chemically sensitive? We've removed the irrita...</td>\n",
       "      <td>none</td>\n",
       "      <td>Queen Anne is a wonderful, truly functional vi...</td>\n",
       "      <td>What's up with the free pillows?  Our home was...</td>\n",
       "      <td>Convenient bus stops are just down the block, ...</td>\n",
       "      <td>https://a0.muscache.com/ac/pictures/14409893/f...</td>\n",
       "      <td>https://a0.muscache.com/im/pictures/14409893/f...</td>\n",
       "      <td>https://a0.muscache.com/ac/pictures/14409893/f...</td>\n",
       "      <td>https://a0.muscache.com/ac/pictures/14409893/f...</td>\n",
       "      <td>5177328</td>\n",
       "      <td>https://www.airbnb.com/users/show/5177328</td>\n",
       "      <td>Andrea</td>\n",
       "      <td>2013-02-21</td>\n",
       "      <td>Seattle, Washington, United States</td>\n",
       "      <td>Living east coast/left coast/overseas.  Time i...</td>\n",
       "      <td>within an hour</td>\n",
       "      <td>98%</td>\n",
       "      <td>100%</td>\n",
       "      <td>t</td>\n",
       "      <td>https://a0.muscache.com/ac/users/5177328/profi...</td>\n",
       "      <td>https://a0.muscache.com/ac/users/5177328/profi...</td>\n",
       "      <td>Queen Anne</td>\n",
       "      <td>6.0</td>\n",
       "      <td>6.0</td>\n",
       "      <td>['email', 'phone', 'facebook', 'linkedin', 're...</td>\n",
       "      <td>t</td>\n",
       "      <td>t</td>\n",
       "      <td>7th Avenue West, Seattle, WA 98119, United States</td>\n",
       "      <td>Queen Anne</td>\n",
       "      <td>West Queen Anne</td>\n",
       "      <td>Queen Anne</td>\n",
       "      <td>Seattle</td>\n",
       "      <td>WA</td>\n",
       "      <td>98119</td>\n",
       "      <td>Seattle</td>\n",
       "      <td>Seattle, WA</td>\n",
       "      <td>US</td>\n",
       "      <td>United States</td>\n",
       "      <td>47.639123</td>\n",
       "      <td>-122.365666</td>\n",
       "      <td>t</td>\n",
       "      <td>Apartment</td>\n",
       "      <td>Entire home/apt</td>\n",
       "      <td>4</td>\n",
       "      <td>1.0</td>\n",
       "      <td>1.0</td>\n",
       "      <td>1.0</td>\n",
       "      <td>Real Bed</td>\n",
       "      <td>{TV,Internet,\"Wireless Internet\",Kitchen,\"Free...</td>\n",
       "      <td>NaN</td>\n",
       "      <td>150</td>\n",
       "      <td>$1,000.00</td>\n",
       "      <td>$3,000.00</td>\n",
       "      <td>$100.00</td>\n",
       "      <td>40</td>\n",
       "      <td>1</td>\n",
       "      <td>0</td>\n",
       "      <td>2</td>\n",
       "      <td>90</td>\n",
       "      <td>today</td>\n",
       "      <td>t</td>\n",
       "      <td>13</td>\n",
       "      <td>13</td>\n",
       "      <td>16</td>\n",
       "      <td>291</td>\n",
       "      <td>2016-01-04</td>\n",
       "      <td>43</td>\n",
       "      <td>2013-08-19</td>\n",
       "      <td>2015-12-29</td>\n",
       "      <td>96.0</td>\n",
       "      <td>10.0</td>\n",
       "      <td>10.0</td>\n",
       "      <td>10.0</td>\n",
       "      <td>10.0</td>\n",
       "      <td>10.0</td>\n",
       "      <td>10.0</td>\n",
       "      <td>f</td>\n",
       "      <td>NaN</td>\n",
       "      <td>WASHINGTON</td>\n",
       "      <td>f</td>\n",
       "      <td>strict</td>\n",
       "      <td>t</td>\n",
       "      <td>t</td>\n",
       "      <td>6</td>\n",
       "      <td>1.48</td>\n",
       "    </tr>\n",
       "    <tr>\n",
       "      <th>2</th>\n",
       "      <td>3308979</td>\n",
       "      <td>https://www.airbnb.com/rooms/3308979</td>\n",
       "      <td>20160104002432</td>\n",
       "      <td>2016-01-04</td>\n",
       "      <td>New Modern House-Amazing water view</td>\n",
       "      <td>New modern house built in 2013.  Spectacular s...</td>\n",
       "      <td>Our house is modern, light and fresh with a wa...</td>\n",
       "      <td>New modern house built in 2013.  Spectacular s...</td>\n",
       "      <td>none</td>\n",
       "      <td>Upper Queen Anne is a charming neighborhood fu...</td>\n",
       "      <td>Our house is located just 5 short blocks to To...</td>\n",
       "      <td>A bus stop is just 2 blocks away.   Easy bus a...</td>\n",
       "      <td>NaN</td>\n",
       "      <td>NaN</td>\n",
       "      <td>https://a2.muscache.com/ac/pictures/b4324e0f-a...</td>\n",
       "      <td>NaN</td>\n",
       "      <td>16708587</td>\n",
       "      <td>https://www.airbnb.com/users/show/16708587</td>\n",
       "      <td>Jill</td>\n",
       "      <td>2014-06-12</td>\n",
       "      <td>Seattle, Washington, United States</td>\n",
       "      <td>i love living in Seattle.  i grew up in the mi...</td>\n",
       "      <td>within a few hours</td>\n",
       "      <td>67%</td>\n",
       "      <td>100%</td>\n",
       "      <td>f</td>\n",
       "      <td>https://a1.muscache.com/ac/users/16708587/prof...</td>\n",
       "      <td>https://a1.muscache.com/ac/users/16708587/prof...</td>\n",
       "      <td>Queen Anne</td>\n",
       "      <td>2.0</td>\n",
       "      <td>2.0</td>\n",
       "      <td>['email', 'phone', 'google', 'reviews', 'jumio']</td>\n",
       "      <td>t</td>\n",
       "      <td>t</td>\n",
       "      <td>West Lee Street, Seattle, WA 98119, United States</td>\n",
       "      <td>Queen Anne</td>\n",
       "      <td>West Queen Anne</td>\n",
       "      <td>Queen Anne</td>\n",
       "      <td>Seattle</td>\n",
       "      <td>WA</td>\n",
       "      <td>98119</td>\n",
       "      <td>Seattle</td>\n",
       "      <td>Seattle, WA</td>\n",
       "      <td>US</td>\n",
       "      <td>United States</td>\n",
       "      <td>47.629724</td>\n",
       "      <td>-122.369483</td>\n",
       "      <td>t</td>\n",
       "      <td>House</td>\n",
       "      <td>Entire home/apt</td>\n",
       "      <td>11</td>\n",
       "      <td>4.5</td>\n",
       "      <td>5.0</td>\n",
       "      <td>7.0</td>\n",
       "      <td>Real Bed</td>\n",
       "      <td>{TV,\"Cable TV\",Internet,\"Wireless Internet\",\"A...</td>\n",
       "      <td>NaN</td>\n",
       "      <td>975</td>\n",
       "      <td>NaN</td>\n",
       "      <td>NaN</td>\n",
       "      <td>$1,000.00</td>\n",
       "      <td>300</td>\n",
       "      <td>10</td>\n",
       "      <td>25</td>\n",
       "      <td>4</td>\n",
       "      <td>30</td>\n",
       "      <td>5 weeks ago</td>\n",
       "      <td>t</td>\n",
       "      <td>1</td>\n",
       "      <td>6</td>\n",
       "      <td>17</td>\n",
       "      <td>220</td>\n",
       "      <td>2016-01-04</td>\n",
       "      <td>20</td>\n",
       "      <td>2014-07-30</td>\n",
       "      <td>2015-09-03</td>\n",
       "      <td>97.0</td>\n",
       "      <td>10.0</td>\n",
       "      <td>10.0</td>\n",
       "      <td>10.0</td>\n",
       "      <td>10.0</td>\n",
       "      <td>10.0</td>\n",
       "      <td>10.0</td>\n",
       "      <td>f</td>\n",
       "      <td>NaN</td>\n",
       "      <td>WASHINGTON</td>\n",
       "      <td>f</td>\n",
       "      <td>strict</td>\n",
       "      <td>f</td>\n",
       "      <td>f</td>\n",
       "      <td>2</td>\n",
       "      <td>1.15</td>\n",
       "    </tr>\n",
       "  </tbody>\n",
       "</table>\n",
       "</div>"
      ],
      "text/plain": [
       "        id                           listing_url       scrape_id last_scraped  \\\n",
       "0   241032   https://www.airbnb.com/rooms/241032  20160104002432   2016-01-04   \n",
       "1   953595   https://www.airbnb.com/rooms/953595  20160104002432   2016-01-04   \n",
       "2  3308979  https://www.airbnb.com/rooms/3308979  20160104002432   2016-01-04   \n",
       "\n",
       "                                  name  \\\n",
       "0         Stylish Queen Anne Apartment   \n",
       "1   Bright & Airy Queen Anne Apartment   \n",
       "2  New Modern House-Amazing water view   \n",
       "\n",
       "                                             summary  \\\n",
       "0                                                NaN   \n",
       "1  Chemically sensitive? We've removed the irrita...   \n",
       "2  New modern house built in 2013.  Spectacular s...   \n",
       "\n",
       "                                               space  \\\n",
       "0  Make your self at home in this charming one-be...   \n",
       "1  Beautiful, hypoallergenic apartment in an extr...   \n",
       "2  Our house is modern, light and fresh with a wa...   \n",
       "\n",
       "                                         description experiences_offered  \\\n",
       "0  Make your self at home in this charming one-be...                none   \n",
       "1  Chemically sensitive? We've removed the irrita...                none   \n",
       "2  New modern house built in 2013.  Spectacular s...                none   \n",
       "\n",
       "                               neighborhood_overview  \\\n",
       "0                                                NaN   \n",
       "1  Queen Anne is a wonderful, truly functional vi...   \n",
       "2  Upper Queen Anne is a charming neighborhood fu...   \n",
       "\n",
       "                                               notes  \\\n",
       "0                                                NaN   \n",
       "1  What's up with the free pillows?  Our home was...   \n",
       "2  Our house is located just 5 short blocks to To...   \n",
       "\n",
       "                                             transit  \\\n",
       "0                                                NaN   \n",
       "1  Convenient bus stops are just down the block, ...   \n",
       "2  A bus stop is just 2 blocks away.   Easy bus a...   \n",
       "\n",
       "                                       thumbnail_url  \\\n",
       "0                                                NaN   \n",
       "1  https://a0.muscache.com/ac/pictures/14409893/f...   \n",
       "2                                                NaN   \n",
       "\n",
       "                                          medium_url  \\\n",
       "0                                                NaN   \n",
       "1  https://a0.muscache.com/im/pictures/14409893/f...   \n",
       "2                                                NaN   \n",
       "\n",
       "                                         picture_url  \\\n",
       "0  https://a1.muscache.com/ac/pictures/67560560/c...   \n",
       "1  https://a0.muscache.com/ac/pictures/14409893/f...   \n",
       "2  https://a2.muscache.com/ac/pictures/b4324e0f-a...   \n",
       "\n",
       "                                      xl_picture_url   host_id  \\\n",
       "0                                                NaN    956883   \n",
       "1  https://a0.muscache.com/ac/pictures/14409893/f...   5177328   \n",
       "2                                                NaN  16708587   \n",
       "\n",
       "                                     host_url host_name host_since  \\\n",
       "0    https://www.airbnb.com/users/show/956883     Maija 2011-08-11   \n",
       "1   https://www.airbnb.com/users/show/5177328    Andrea 2013-02-21   \n",
       "2  https://www.airbnb.com/users/show/16708587      Jill 2014-06-12   \n",
       "\n",
       "                        host_location  \\\n",
       "0  Seattle, Washington, United States   \n",
       "1  Seattle, Washington, United States   \n",
       "2  Seattle, Washington, United States   \n",
       "\n",
       "                                          host_about  host_response_time  \\\n",
       "0  I am an artist, interior designer, and run a s...  within a few hours   \n",
       "1  Living east coast/left coast/overseas.  Time i...      within an hour   \n",
       "2  i love living in Seattle.  i grew up in the mi...  within a few hours   \n",
       "\n",
       "  host_response_rate host_acceptance_rate host_is_superhost  \\\n",
       "0                96%                 100%                 f   \n",
       "1                98%                 100%                 t   \n",
       "2                67%                 100%                 f   \n",
       "\n",
       "                                  host_thumbnail_url  \\\n",
       "0  https://a0.muscache.com/ac/users/956883/profil...   \n",
       "1  https://a0.muscache.com/ac/users/5177328/profi...   \n",
       "2  https://a1.muscache.com/ac/users/16708587/prof...   \n",
       "\n",
       "                                    host_picture_url host_neighbourhood  \\\n",
       "0  https://a0.muscache.com/ac/users/956883/profil...         Queen Anne   \n",
       "1  https://a0.muscache.com/ac/users/5177328/profi...         Queen Anne   \n",
       "2  https://a1.muscache.com/ac/users/16708587/prof...         Queen Anne   \n",
       "\n",
       "   host_listings_count  host_total_listings_count  \\\n",
       "0                  3.0                        3.0   \n",
       "1                  6.0                        6.0   \n",
       "2                  2.0                        2.0   \n",
       "\n",
       "                                  host_verifications host_has_profile_pic  \\\n",
       "0               ['email', 'phone', 'reviews', 'kba']                    t   \n",
       "1  ['email', 'phone', 'facebook', 'linkedin', 're...                    t   \n",
       "2   ['email', 'phone', 'google', 'reviews', 'jumio']                    t   \n",
       "\n",
       "  host_identity_verified                                             street  \\\n",
       "0                      t      Gilman Dr W, Seattle, WA 98119, United States   \n",
       "1                      t  7th Avenue West, Seattle, WA 98119, United States   \n",
       "2                      t  West Lee Street, Seattle, WA 98119, United States   \n",
       "\n",
       "  neighbourhood neighbourhood_cleansed neighbourhood_group_cleansed     city  \\\n",
       "0    Queen Anne        West Queen Anne                   Queen Anne  Seattle   \n",
       "1    Queen Anne        West Queen Anne                   Queen Anne  Seattle   \n",
       "2    Queen Anne        West Queen Anne                   Queen Anne  Seattle   \n",
       "\n",
       "  state zipcode   market smart_location country_code        country  \\\n",
       "0    WA   98119  Seattle    Seattle, WA           US  United States   \n",
       "1    WA   98119  Seattle    Seattle, WA           US  United States   \n",
       "2    WA   98119  Seattle    Seattle, WA           US  United States   \n",
       "\n",
       "    latitude   longitude is_location_exact property_type        room_type  \\\n",
       "0  47.636289 -122.371025                 t     Apartment  Entire home/apt   \n",
       "1  47.639123 -122.365666                 t     Apartment  Entire home/apt   \n",
       "2  47.629724 -122.369483                 t         House  Entire home/apt   \n",
       "\n",
       "   accommodates  bathrooms  bedrooms  beds  bed_type  \\\n",
       "0             4        1.0       1.0   1.0  Real Bed   \n",
       "1             4        1.0       1.0   1.0  Real Bed   \n",
       "2            11        4.5       5.0   7.0  Real Bed   \n",
       "\n",
       "                                           amenities  square_feet  price  \\\n",
       "0  {TV,\"Cable TV\",Internet,\"Wireless Internet\",\"A...          NaN     85   \n",
       "1  {TV,Internet,\"Wireless Internet\",Kitchen,\"Free...          NaN    150   \n",
       "2  {TV,\"Cable TV\",Internet,\"Wireless Internet\",\"A...          NaN    975   \n",
       "\n",
       "  weekly_price monthly_price security_deposit  cleaning_fee  guests_included  \\\n",
       "0          NaN           NaN              NaN             0                2   \n",
       "1    $1,000.00     $3,000.00          $100.00            40                1   \n",
       "2          NaN           NaN        $1,000.00           300               10   \n",
       "\n",
       "   extra_people  minimum_nights  maximum_nights calendar_updated  \\\n",
       "0             5               1             365      4 weeks ago   \n",
       "1             0               2              90            today   \n",
       "2            25               4              30      5 weeks ago   \n",
       "\n",
       "  has_availability  availability_30  availability_60  availability_90  \\\n",
       "0                t               14               41               71   \n",
       "1                t               13               13               16   \n",
       "2                t                1                6               17   \n",
       "\n",
       "   availability_365 calendar_last_scraped  number_of_reviews first_review  \\\n",
       "0               346            2016-01-04                207   2011-11-01   \n",
       "1               291            2016-01-04                 43   2013-08-19   \n",
       "2               220            2016-01-04                 20   2014-07-30   \n",
       "\n",
       "  last_review  review_scores_rating  review_scores_accuracy  \\\n",
       "0  2016-01-02                  95.0                    10.0   \n",
       "1  2015-12-29                  96.0                    10.0   \n",
       "2  2015-09-03                  97.0                    10.0   \n",
       "\n",
       "   review_scores_cleanliness  review_scores_checkin  \\\n",
       "0                       10.0                   10.0   \n",
       "1                       10.0                   10.0   \n",
       "2                       10.0                   10.0   \n",
       "\n",
       "   review_scores_communication  review_scores_location  review_scores_value  \\\n",
       "0                         10.0                     9.0                 10.0   \n",
       "1                         10.0                    10.0                 10.0   \n",
       "2                         10.0                    10.0                 10.0   \n",
       "\n",
       "  requires_license  license jurisdiction_names instant_bookable  \\\n",
       "0                f      NaN         WASHINGTON                f   \n",
       "1                f      NaN         WASHINGTON                f   \n",
       "2                f      NaN         WASHINGTON                f   \n",
       "\n",
       "  cancellation_policy require_guest_profile_picture  \\\n",
       "0            moderate                             f   \n",
       "1              strict                             t   \n",
       "2              strict                             f   \n",
       "\n",
       "  require_guest_phone_verification  calculated_host_listings_count  \\\n",
       "0                                f                               2   \n",
       "1                                t                               6   \n",
       "2                                f                               2   \n",
       "\n",
       "   reviews_per_month  \n",
       "0               4.07  \n",
       "1               1.48  \n",
       "2               1.15  "
      ]
     },
     "execution_count": 25,
     "metadata": {},
     "output_type": "execute_result"
    }
   ],
   "source": [
    "listings_df.head(3)"
   ]
  },
  {
   "cell_type": "markdown",
   "id": "398dde27-ae5b-48bc-8a50-5d92560f237a",
   "metadata": {},
   "source": [
    "#### 2. We would go through some main categorical columns, see some distributations first."
   ]
  },
  {
   "cell_type": "code",
   "execution_count": 27,
   "id": "retained-invitation",
   "metadata": {
    "papermill": {
     "duration": 0.27858,
     "end_time": "2021-05-27T08:02:34.586280",
     "exception": false,
     "start_time": "2021-05-27T08:02:34.307700",
     "status": "completed"
    },
    "tags": []
   },
   "outputs": [
    {
     "data": {
      "image/png": "[encoded data removed]",
      "text/plain": [
       "<Figure size 864x864 with 2 Axes>"
      ]
     },
     "metadata": {},
     "output_type": "display_data"
    }
   ],
   "source": [
    "# count listing host for each room type\n",
    "room_type_count = listings_df['room_type'].value_counts()\n",
    "\n",
    "# count listing host for each property type\n",
    "property_type_count = listings_df['property_type'].value_counts()\n",
    "\n",
    "# remain the top 3 property type, sum up the rest as a type \"other\"\n",
    "property_type_count = property_type_count[:3].append(\\\n",
    "                    pd.Series(property_type_count[4:].sum(),\\\n",
    "                    index = ['Other']))\n",
    "\n",
    "# use subplots create two plot in a row\n",
    "fig, (ax1, ax2) = plt.subplots(1, 2,figsize = (12,12))\n",
    "\n",
    "# plot the first pie chart on the left\n",
    "ax1.pie(room_type_count,labels = room_type_count.index, autopct='%1.0f%%')\n",
    "ax1.set_title(\"The spread of room type \")\n",
    "\n",
    "# plot the second pid chart on the right\n",
    "ax2.pie(property_type_count,labels = property_type_count.index,autopct='%1.0f%%')\n",
    "ax2.set_title(\"The spread of property type \")\n",
    "\n",
    "# display \n",
    "plt.show()"
   ]
  },
  {
   "cell_type": "markdown",
   "id": "c28b384c-d4b4-4299-82f9-5f5146915e40",
   "metadata": {},
   "source": [
    "#### 3. Since airbnb is just a platform, the host are not in professinal hotel business. How many days can they provide the room.\n"
   ]
  },
  {
   "cell_type": "code",
   "execution_count": 28,
   "id": "conventional-adult",
   "metadata": {
    "papermill": {
     "duration": 0.37727,
     "end_time": "2021-05-27T08:02:34.988627",
     "exception": false,
     "start_time": "2021-05-27T08:02:34.611357",
     "status": "completed"
    },
    "tags": []
   },
   "outputs": [
    {
     "data": {
      "image/png": "[encoded data removed]",
      "text/plain": [
       "<Figure size 432x288 with 1 Axes>"
      ]
     },
     "metadata": {
      "needs_background": "light"
     },
     "output_type": "display_data"
    }
   ],
   "source": [
    "# 'availability_365' show how many day the host is available in a period of 365 days.\n",
    "# we use histplot from seaborn package to label the propotion of each room type \n",
    "ax_avail = sns.histplot(listings_df[['availability_365','room_type']],\\\n",
    "            x = 'availability_365',\\\n",
    "            hue = 'room_type',\\\n",
    "            multiple = 'stack',\\\n",
    "            stat = 'probability')\n",
    "ax_avail.set(xlabel = \"Days available in a Year\")\n",
    "plt.show()"
   ]
  },
  {
   "cell_type": "markdown",
   "id": "87dbd422-2718-4b31-885f-cb4acfc207cf",
   "metadata": {},
   "source": [
    "**Surprised** there are so many host are available for more than 300 days in a year."
   ]
  },
  {
   "cell_type": "markdown",
   "id": "e405d225-2bfa-4cc5-a3bd-f03feb38be0a",
   "metadata": {},
   "source": [
    "I am quite courious about the rest of the host, when do the rent the places? calendar should provide some usefull informaton."
   ]
  },
  {
   "cell_type": "code",
   "execution_count": 13,
   "id": "8677fd3a-2fe3-424d-8bea-f39f4a988250",
   "metadata": {},
   "outputs": [
    {
     "data": {
      "text/html": [
       "<div>\n",
       "<style scoped>\n",
       "    .dataframe tbody tr th:only-of-type {\n",
       "        vertical-align: middle;\n",
       "    }\n",
       "\n",
       "    .dataframe tbody tr th {\n",
       "        vertical-align: top;\n",
       "    }\n",
       "\n",
       "    .dataframe thead th {\n",
       "        text-align: right;\n",
       "    }\n",
       "</style>\n",
       "<table border=\"1\" class=\"dataframe\">\n",
       "  <thead>\n",
       "    <tr style=\"text-align: right;\">\n",
       "      <th></th>\n",
       "      <th>listing_id</th>\n",
       "      <th>date</th>\n",
       "      <th>available</th>\n",
       "      <th>price</th>\n",
       "    </tr>\n",
       "  </thead>\n",
       "  <tbody>\n",
       "    <tr>\n",
       "      <th>0</th>\n",
       "      <td>241032</td>\n",
       "      <td>2016-01-04</td>\n",
       "      <td>t</td>\n",
       "      <td>$85.00</td>\n",
       "    </tr>\n",
       "    <tr>\n",
       "      <th>1</th>\n",
       "      <td>241032</td>\n",
       "      <td>2016-01-05</td>\n",
       "      <td>t</td>\n",
       "      <td>$85.00</td>\n",
       "    </tr>\n",
       "    <tr>\n",
       "      <th>2</th>\n",
       "      <td>241032</td>\n",
       "      <td>2016-01-06</td>\n",
       "      <td>f</td>\n",
       "      <td>NaN</td>\n",
       "    </tr>\n",
       "    <tr>\n",
       "      <th>3</th>\n",
       "      <td>241032</td>\n",
       "      <td>2016-01-07</td>\n",
       "      <td>f</td>\n",
       "      <td>NaN</td>\n",
       "    </tr>\n",
       "    <tr>\n",
       "      <th>4</th>\n",
       "      <td>241032</td>\n",
       "      <td>2016-01-08</td>\n",
       "      <td>f</td>\n",
       "      <td>NaN</td>\n",
       "    </tr>\n",
       "    <tr>\n",
       "      <th>5</th>\n",
       "      <td>241032</td>\n",
       "      <td>2016-01-09</td>\n",
       "      <td>f</td>\n",
       "      <td>NaN</td>\n",
       "    </tr>\n",
       "    <tr>\n",
       "      <th>6</th>\n",
       "      <td>241032</td>\n",
       "      <td>2016-01-10</td>\n",
       "      <td>f</td>\n",
       "      <td>NaN</td>\n",
       "    </tr>\n",
       "    <tr>\n",
       "      <th>7</th>\n",
       "      <td>241032</td>\n",
       "      <td>2016-01-11</td>\n",
       "      <td>f</td>\n",
       "      <td>NaN</td>\n",
       "    </tr>\n",
       "    <tr>\n",
       "      <th>8</th>\n",
       "      <td>241032</td>\n",
       "      <td>2016-01-12</td>\n",
       "      <td>f</td>\n",
       "      <td>NaN</td>\n",
       "    </tr>\n",
       "    <tr>\n",
       "      <th>9</th>\n",
       "      <td>241032</td>\n",
       "      <td>2016-01-13</td>\n",
       "      <td>t</td>\n",
       "      <td>$85.00</td>\n",
       "    </tr>\n",
       "  </tbody>\n",
       "</table>\n",
       "</div>"
      ],
      "text/plain": [
       "   listing_id       date available   price\n",
       "0      241032 2016-01-04         t  $85.00\n",
       "1      241032 2016-01-05         t  $85.00\n",
       "2      241032 2016-01-06         f     NaN\n",
       "3      241032 2016-01-07         f     NaN\n",
       "4      241032 2016-01-08         f     NaN\n",
       "5      241032 2016-01-09         f     NaN\n",
       "6      241032 2016-01-10         f     NaN\n",
       "7      241032 2016-01-11         f     NaN\n",
       "8      241032 2016-01-12         f     NaN\n",
       "9      241032 2016-01-13         t  $85.00"
      ]
     },
     "execution_count": 13,
     "metadata": {},
     "output_type": "execute_result"
    }
   ],
   "source": [
    "calendar_df.head(10)"
   ]
  },
  {
   "cell_type": "code",
   "execution_count": 29,
   "id": "expressed-introduction",
   "metadata": {
    "papermill": {
     "duration": 0.925935,
     "end_time": "2021-05-27T08:02:36.076749",
     "exception": false,
     "start_time": "2021-05-27T08:02:35.150814",
     "status": "completed"
    },
    "tags": []
   },
   "outputs": [],
   "source": [
    "# in the calendar.csv file, if the host is no available ,the column \"available\" is \"f\", and the price is NaN.\n",
    "# As we want to find out when do hosts avaiable, it is much simple to just drop the NaNs.\n",
    "cal_df_dropna = calendar_df.dropna()\n",
    "\n",
    "# merger listings_df to find out that does room type affect availablility\n",
    "cal_avail_m = cal_df_dropna.merge(listings_df[['id','room_type']], left_on= 'listing_id', right_on = 'id')\n",
    "cal_avail_m = cal_avail_m.groupby(['date','room_type'])['available'].count().reset_index()"
   ]
  },
  {
   "cell_type": "code",
   "execution_count": 30,
   "id": "taken-cigarette",
   "metadata": {
    "papermill": {
     "duration": 0.389434,
     "end_time": "2021-05-27T08:02:36.483835",
     "exception": false,
     "start_time": "2021-05-27T08:02:36.094401",
     "status": "completed"
    },
    "tags": []
   },
   "outputs": [
    {
     "data": {
      "image/png": "[encoded data removed]",
      "text/plain": [
       "<Figure size 432x288 with 1 Axes>"
      ]
     },
     "metadata": {
      "needs_background": "light"
     },
     "output_type": "display_data"
    }
   ],
   "source": [
    "sns.lineplot(x = cal_avail_m['date'], y = cal_avail_m['available'], hue = cal_avail_m['room_type'])\n",
    "plt.show()"
   ]
  },
  {
   "cell_type": "markdown",
   "id": "0936c53e-26a6-4f6d-99f3-6306d361e0a9",
   "metadata": {},
   "source": [
    "- The plot do not follow some patterns as I expected, such like increase on vacations.\n",
    "- \"Entire home/apt\" has the highest variance, while \"shared room\" is pretty stable."
   ]
  },
  {
   "cell_type": "code",
   "execution_count": 5,
   "id": "sustainable-unknown",
   "metadata": {
    "execution": {
     "iopub.execute_input": "2021-05-27T08:02:35.109621Z",
     "iopub.status.busy": "2021-05-27T08:02:35.108947Z",
     "iopub.status.idle": "2021-05-27T08:02:35.123711Z",
     "shell.execute_reply": "2021-05-27T08:02:35.123112Z"
    },
    "papermill": {
     "duration": 0.055306,
     "end_time": "2021-05-27T08:02:35.123849",
     "exception": false,
     "start_time": "2021-05-27T08:02:35.068543",
     "status": "completed"
    },
    "tags": []
   },
   "outputs": [
    {
     "name": "stdout",
     "output_type": "stream",
     "text": [
      "0.3122053431115767 0.5441693742145101\n"
     ]
    }
   ],
   "source": [
    "listings_df[listings_df['room_type'] == 'Shared room']['availability_365'].mean()\n",
    "\n",
    "entire_300host_list = ((listings_df['room_type'] == 'Entire home/apt') & (listings_df['availability_365'] > 300))\n",
    "entire_300host_pct = entire_300host_list.sum()/listings_df.shape[0]\n",
    "\n",
    "entire_300host_acc = (listings_df[entire_300host_list]['availability_365']*listings_df[entire_300host_list]['accommodates']).sum()\n",
    "all_acc = (listings_df['availability_365']*listings_df['accommodates']).sum()\n",
    "entire_300host_acc_pct = entire_300host_acc/all_acc\n",
    "print(entire_300host_pct,entire_300host_acc_pct)\n",
    "\n",
    "private_300host_list = ((listings_df['room_type'] == 'Private room') & (listings_df['availability_365'] > 300))\n",
    "private_300host_pct = private_300host_list.sum()/listings_df.shape[0]\n",
    "private_300host_acc = (listings_df[private_300host_list]['availability_365']*listings_df[private_300host_list]['accommodates']).sum()\n",
    "private_300host_acc_pct = private_300host_acc/all_acc\n",
    "#listings_df[(listings_df['room_type'] == 'Entire home/apt') and (listing_df['availability_365'] > 300)].shape\n",
    "#listings_df[listings_df['room_type'] == 'Shared room']['availability_365'].quantile(0.2)\n"
   ]
  },
  {
   "cell_type": "markdown",
   "id": "atmospheric-interpretation",
   "metadata": {
    "papermill": {
     "duration": 0.027068,
     "end_time": "2021-05-27T08:02:35.042192",
     "exception": false,
     "start_time": "2021-05-27T08:02:35.015124",
     "status": "completed"
    },
    "tags": []
   },
   "source": [
    "#### 4. Price should be the main reason people choose airbnb, let take a look on the price."
   ]
  },
  {
   "cell_type": "code",
   "execution_count": 34,
   "id": "oriental-account",
   "metadata": {
    "papermill": {
     "duration": 0.116694,
     "end_time": "2021-05-27T08:02:36.619936",
     "exception": false,
     "start_time": "2021-05-27T08:02:36.503242",
     "status": "completed"
    },
    "tags": []
   },
   "outputs": [],
   "source": [
    "def price_clean(df, col_list):\n",
    "    \"\"\" convert price string (with $ and \",\") into integer, fill Nan with 0.\n",
    "    Parameters\n",
    "    -------\n",
    "    df : DataFrame\n",
    "        The DataFrame needed to be converted.\n",
    "    col_list : List\n",
    "        List of columns names going to be converted.\n",
    "    \n",
    "    Returns\n",
    "    -------\n",
    "    df : DataFrame\n",
    "        The DataFrame after convertion\n",
    "        \n",
    "    \"\"\"\n",
    "    # remove \"$ , .00\"\n",
    "    df[col_list] = df[col_list].fillna(0).replace({\"\\$|\\,|\\.00$\": \"\"}, regex = True)\n",
    "    df[col_list] = df[col_list].astype('int')\n",
    "    return df\n",
    "\n",
    "# clean 'price','cleaning_fee','extra_people' columns \n",
    "listings_df=price_clean(listings_df,['price','cleaning_fee','extra_people'])\n",
    "\n",
    "# caculate the price per accommodation.\n",
    "listings_df['price_peracc'] = listings_df['price']/listings_df['accommodates']"
   ]
  },
  {
   "cell_type": "code",
   "execution_count": 36,
   "id": "aboriginal-simon",
   "metadata": {
    "papermill": {
     "duration": 0.294385,
     "end_time": "2021-05-27T08:02:36.997101",
     "exception": false,
     "start_time": "2021-05-27T08:02:36.702716",
     "status": "completed"
    },
    "tags": []
   },
   "outputs": [
    {
     "data": {
      "image/png": "[encoded data removed]",
      "text/plain": [
       "<Figure size 864x288 with 2 Axes>"
      ]
     },
     "metadata": {
      "needs_background": "light"
     },
     "output_type": "display_data"
    }
   ],
   "source": [
    "# create histogram for \"price\" and \"price per accommodation\"\n",
    "fig, (ax1, ax2) = plt.subplots(1, 2,figsize = (12,4))\n",
    "# hist \"price\"\n",
    "ax1.hist(listings_df['price'],bins = 20)\n",
    "ax1.set_title(\"Histogram of price\")\n",
    "ax1.set_xlabel(\"Price(USD)\")\n",
    "ax1.set_ylabel(\"Counts\")\n",
    "# hist \"price per accommodation\"\n",
    "ax2.hist(listings_df['price_peracc'],bins =20)\n",
    "ax2.set_title(\"Histogram of price per accommodation\")\n",
    "ax2.set_xlabel(\"Price(USD)\")\n",
    "ax2.set_ylabel(\"Counts\")\n",
    "plt.show()"
   ]
  },
  {
   "cell_type": "code",
   "execution_count": 10,
   "id": "photographic-african",
   "metadata": {
    "execution": {
     "iopub.execute_input": "2021-05-27T08:02:37.043053Z",
     "iopub.status.busy": "2021-05-27T08:02:37.042332Z",
     "iopub.status.idle": "2021-05-27T08:02:37.048315Z",
     "shell.execute_reply": "2021-05-27T08:02:37.046942Z",
     "shell.execute_reply.started": "2021-05-27T06:25:01.795303Z"
    },
    "papermill": {
     "duration": 0.030976,
     "end_time": "2021-05-27T08:02:37.048482",
     "exception": false,
     "start_time": "2021-05-27T08:02:37.017506",
     "status": "completed"
    },
    "tags": []
   },
   "outputs": [
    {
     "name": "stdout",
     "output_type": "stream",
     "text": [
      "The mean price is 127.98, the highest price is 1000, the standard deviaton is 90.25\n",
      "The mean price per accommodation is 41.27, the highest price is 275.0, the standard deviaton is 20.68\n"
     ]
    }
   ],
   "source": [
    "# print the mean ,hightest and stand deviation for \"price\" and \"price per accommodation\"\n",
    "print('The mean price is {}, the highest price is {}, the standard deviation is {}'\\\n",
    "      .format(round(listings_df['price'].mean(),2),\\\n",
    "              listings_df['price'].max(),\\\n",
    "             round(listings_df['price'].std(), 2)))\n",
    "\n",
    "print('The mean price per accommodation is {}, the highest price is {}, the standard deviation is {}'\\\n",
    "      .format(round(listings_df['price_peracc'].mean(),2),\\\n",
    "              listings_df['price_peracc'].max(),\\\n",
    "             round(listings_df['price_peracc'].std(),2)))"
   ]
  },
  {
   "cell_type": "code",
   "execution_count": 11,
   "id": "significant-alcohol",
   "metadata": {
    "execution": {
     "iopub.execute_input": "2021-05-27T08:02:37.094234Z",
     "iopub.status.busy": "2021-05-27T08:02:37.093614Z",
     "iopub.status.idle": "2021-05-27T08:02:37.101378Z",
     "shell.execute_reply": "2021-05-27T08:02:37.101927Z",
     "shell.execute_reply.started": "2021-05-27T05:14:58.441066Z"
    },
    "papermill": {
     "duration": 0.03344,
     "end_time": "2021-05-27T08:02:37.102098",
     "exception": false,
     "start_time": "2021-05-27T08:02:37.068658",
     "status": "completed"
    },
    "tags": []
   },
   "outputs": [],
   "source": [
    "review_5_list = listings_df['number_of_reviews'] >= 3\n",
    "listings_review5 = listings_df[review_5_list]\n",
    "listings_reivew_5_df = listings_review5[['bedrooms', 'bathrooms', 'accommodates','price_peracc']]\n"
   ]
  },
  {
   "cell_type": "code",
   "execution_count": 12,
   "id": "stone-station",
   "metadata": {
    "execution": {
     "iopub.execute_input": "2021-05-27T08:02:37.168365Z",
     "iopub.status.busy": "2021-05-27T08:02:37.165615Z",
     "iopub.status.idle": "2021-05-27T08:02:37.171458Z",
     "shell.execute_reply": "2021-05-27T08:02:37.170830Z",
     "shell.execute_reply.started": "2021-05-27T05:26:40.858151Z"
    },
    "papermill": {
     "duration": 0.040754,
     "end_time": "2021-05-27T08:02:37.171587",
     "exception": false,
     "start_time": "2021-05-27T08:02:37.130833",
     "status": "completed"
    },
    "tags": []
   },
   "outputs": [],
   "source": [
    "accommodates_count = listings_reivew_5_df['accommodates'].value_counts()\n",
    "bedroom_count = listings_reivew_5_df['bedrooms'].value_counts()\n",
    "bedroom_count_name = list(map(int, bedroom_count.index.to_list()))\n",
    "bedroom_count.index = bedroom_count_name\n",
    "bedroom_count.name = \"Bedrooms\"\n",
    "bedroom_count = bedroom_count[:3].append(pd.Series(bedroom_count[4:7].sum(), index = [\">3\"]))\n",
    "accommodates_count = accommodates_count[:5].append(pd.Series(accommodates_count[6:].sum(), index = [\">6\"]))\n",
    "accommodates_count.name = \"accommodates\""
   ]
  },
  {
   "cell_type": "code",
   "execution_count": 13,
   "id": "finnish-crown",
   "metadata": {
    "execution": {
     "iopub.execute_input": "2021-05-27T08:02:37.257294Z",
     "iopub.status.busy": "2021-05-27T08:02:37.244932Z",
     "iopub.status.idle": "2021-05-27T08:02:37.385977Z",
     "shell.execute_reply": "2021-05-27T08:02:37.385504Z",
     "shell.execute_reply.started": "2021-05-27T06:28:35.559428Z"
    },
    "papermill": {
     "duration": 0.185376,
     "end_time": "2021-05-27T08:02:37.386085",
     "exception": false,
     "start_time": "2021-05-27T08:02:37.200709",
     "status": "completed"
    },
    "tags": []
   },
   "outputs": [
    {
     "data": {
      "image/png": "[encoded data removed]",
      "text/plain": [
       "<Figure size 864x864 with 2 Axes>"
      ]
     },
     "metadata": {},
     "output_type": "display_data"
    }
   ],
   "source": [
    "fig, (ax1, ax2) = plt.subplots(1,2, figsize = (12,12))\n",
    "ax1.pie(bedroom_count, labels = bedroom_count.index, autopct = '%1.0f%%')\n",
    "ax1.set_title(\"The number of bedrooms\")\n",
    "ax2.pie(accommodates_count, labels = accommodates_count.index, autopct = '%1.0f%%')\n",
    "ax2.set_title(\"The number of Accommodates\")\n",
    "fig.show()"
   ]
  },
  {
   "cell_type": "markdown",
   "id": "about-campaign",
   "metadata": {
    "papermill": {
     "duration": 0.020088,
     "end_time": "2021-05-27T08:02:37.426820",
     "exception": false,
     "start_time": "2021-05-27T08:02:37.406732",
     "status": "completed"
    },
    "tags": []
   },
   "source": [
    "# 3. What does the Guest care about?"
   ]
  },
  {
   "cell_type": "markdown",
   "id": "detected-oakland",
   "metadata": {
    "papermill": {
     "duration": 0.01972,
     "end_time": "2021-05-27T08:02:37.466989",
     "exception": false,
     "start_time": "2021-05-27T08:02:37.447269",
     "status": "completed"
    },
    "tags": []
   },
   "source": [
    "As we dig further, we want to know what do the guests care most:\n",
    "\n",
    "1. value, cleanliness , accuracy are the top 3 relevant to score rating.\n",
    "2. \"Bungalow\" is the kind of property with the hightest ratings, althought \"dorm\" and \"tent\" have higher coef value ,but the number is too small.\n",
    "3. neighbourhood like \"Laurelhurst\" and \"Yesler Terrace\" tend to have higher value rating\n",
    "4. \"Pull-out Sofa\" has the highest value rating ,while \"Real Bed\" is at the fourth place. People seems dont care too much about bed type.\n",
    "5. \"Smoke allowed \" and \"pets\" are the two most welcome amenities.\n",
    "\n",
    "We can see that the property type and neighbourhood is the most important for the guest. but all the hardware of the house seem cant explain the rating value.\n",
    "\n",
    "So as I assume that the decoration and feel of the house is most important for the guest."
   ]
  },
  {
   "cell_type": "code",
   "execution_count": 14,
   "id": "immediate-centre",
   "metadata": {
    "execution": {
     "iopub.execute_input": "2021-05-27T08:02:37.525392Z",
     "iopub.status.busy": "2021-05-27T08:02:37.518036Z",
     "iopub.status.idle": "2021-05-27T08:02:37.880426Z",
     "shell.execute_reply": "2021-05-27T08:02:37.880811Z",
     "shell.execute_reply.started": "2021-05-27T05:14:58.945172Z"
    },
    "papermill": {
     "duration": 0.394043,
     "end_time": "2021-05-27T08:02:37.880968",
     "exception": false,
     "start_time": "2021-05-27T08:02:37.486925",
     "status": "completed"
    },
    "tags": []
   },
   "outputs": [
    {
     "data": {
      "image/png": "[encoded data removed]",
      "text/plain": [
       "<Figure size 432x288 with 1 Axes>"
      ]
     },
     "metadata": {
      "needs_background": "light"
     },
     "output_type": "display_data"
    }
   ],
   "source": [
    "sns.histplot(listings_df[['review_scores_rating','room_type']],\\\n",
    "             x = 'review_scores_rating',\\\n",
    "            hue = 'room_type',\\\n",
    "             bins = 20,\\\n",
    "            multiple = 'stack')\n",
    "plt.show()\n",
    "\n"
   ]
  },
  {
   "cell_type": "code",
   "execution_count": 15,
   "id": "weird-animal",
   "metadata": {
    "execution": {
     "iopub.execute_input": "2021-05-27T08:02:37.930136Z",
     "iopub.status.busy": "2021-05-27T08:02:37.929516Z",
     "iopub.status.idle": "2021-05-27T08:02:37.962177Z",
     "shell.execute_reply": "2021-05-27T08:02:37.961768Z",
     "shell.execute_reply.started": "2021-05-27T07:58:59.137262Z"
    },
    "papermill": {
     "duration": 0.059512,
     "end_time": "2021-05-27T08:02:37.962287",
     "exception": false,
     "start_time": "2021-05-27T08:02:37.902775",
     "status": "completed"
    },
    "tags": []
   },
   "outputs": [],
   "source": [
    "review_scores_df = listings_df.loc[:,listings_df.columns.str.contains('review')].copy()\n",
    "review_scores_df.dropna(how = 'all', inplace = True)\n",
    "review_scores_df.describe()\n",
    "review_scores_df_drop = review_scores_df.dropna(axis = 0)"
   ]
  },
  {
   "cell_type": "code",
   "execution_count": 16,
   "id": "bound-import",
   "metadata": {
    "execution": {
     "iopub.execute_input": "2021-05-27T08:02:38.009908Z",
     "iopub.status.busy": "2021-05-27T08:02:38.009408Z",
     "iopub.status.idle": "2021-05-27T08:02:38.505744Z",
     "shell.execute_reply": "2021-05-27T08:02:38.505169Z",
     "shell.execute_reply.started": "2021-05-27T07:59:17.725048Z"
    },
    "papermill": {
     "duration": 0.522082,
     "end_time": "2021-05-27T08:02:38.505872",
     "exception": false,
     "start_time": "2021-05-27T08:02:37.983790",
     "status": "completed"
    },
    "tags": []
   },
   "outputs": [
    {
     "data": {
      "image/png": "[encoded data removed]",
      "text/plain": [
       "<Figure size 432x288 with 2 Axes>"
      ]
     },
     "metadata": {
      "needs_background": "light"
     },
     "output_type": "display_data"
    },
    {
     "name": "stdout",
     "output_type": "stream",
     "text": [
      "review_scores_rating           1.000000\n",
      "review_scores_value            0.696288\n",
      "review_scores_cleanliness      0.642380\n",
      "review_scores_accuracy         0.622438\n",
      "review_scores_communication    0.543626\n",
      "review_scores_checkin          0.521914\n",
      "review_scores_location         0.368714\n",
      "Name: review_scores_rating, dtype: float64\n"
     ]
    }
   ],
   "source": [
    "review_corr = review_scores_df_drop.drop(['reviews_per_month','number_of_reviews'], axis = 1).corr()\n",
    "sns.heatmap(review_corr, annot = True)\n",
    "plt.xticks(rotation = 45,ha = 'right')\n",
    "plt.show()\n",
    "print(review_corr['review_scores_rating'].sort_values(ascending = False))"
   ]
  },
  {
   "cell_type": "code",
   "execution_count": 17,
   "id": "dense-staff",
   "metadata": {
    "execution": {
     "iopub.execute_input": "2021-05-27T08:02:38.592481Z",
     "iopub.status.busy": "2021-05-27T08:02:38.591740Z",
     "iopub.status.idle": "2021-05-27T08:02:38.594965Z",
     "shell.execute_reply": "2021-05-27T08:02:38.595425Z",
     "shell.execute_reply.started": "2021-05-27T06:57:43.990067Z"
    },
    "papermill": {
     "duration": 0.057364,
     "end_time": "2021-05-27T08:02:38.595602",
     "exception": false,
     "start_time": "2021-05-27T08:02:38.538238",
     "status": "completed"
    },
    "tags": []
   },
   "outputs": [],
   "source": [
    "listings_df['amenities'] = listings_df['amenities'].str.replace(\"{|}|\\\"|\\'\", \"\", regex = True)"
   ]
  },
  {
   "cell_type": "markdown",
   "id": "thrown-brooklyn",
   "metadata": {
    "papermill": {
     "duration": 0.032585,
     "end_time": "2021-05-27T08:02:38.660949",
     "exception": false,
     "start_time": "2021-05-27T08:02:38.628364",
     "status": "completed"
    },
    "tags": []
   },
   "source": [
    "We try to fit review_scores_value into a linearregression model, and find out what affects review score on value most."
   ]
  },
  {
   "cell_type": "code",
   "execution_count": 18,
   "id": "academic-sharing",
   "metadata": {
    "execution": {
     "iopub.execute_input": "2021-05-27T08:02:38.735326Z",
     "iopub.status.busy": "2021-05-27T08:02:38.734413Z",
     "iopub.status.idle": "2021-05-27T08:02:38.864534Z",
     "shell.execute_reply": "2021-05-27T08:02:38.863888Z",
     "shell.execute_reply.started": "2021-05-27T06:57:45.841095Z"
    },
    "papermill": {
     "duration": 0.171286,
     "end_time": "2021-05-27T08:02:38.864671",
     "exception": false,
     "start_time": "2021-05-27T08:02:38.693385",
     "status": "completed"
    },
    "tags": []
   },
   "outputs": [],
   "source": [
    "value_num_list =['review_scores_value', 'accommodates', 'bedrooms','availability_365' ,'bathrooms', 'beds','price', 'guests_included', 'cleaning_fee' ,'extra_people','minimum_nights','maximum_nights']\n",
    "value_cat_list = ['property_type','room_type', 'neighbourhood_cleansed','bed_type', 'host_is_superhost', 'host_identity_verified']\n",
    "\n",
    "value_df = listings_df[value_num_list + value_cat_list + ['amenities']].copy()\n",
    "value_df.dropna(subset = ['review_scores_value'] ,axis = 0, inplace = True)\n",
    "\n",
    "y = value_df['review_scores_value'].copy()\n",
    "for col in value_num_list:\n",
    "    value_df[col].fillna(0, inplace = True)\n",
    "for col in value_cat_list:\n",
    "    value_df = pd.concat([value_df.drop(col, axis =1), pd.get_dummies(value_df[col], prefix = col, prefix_sep = \"__\", drop_first = True, dummy_na = True )], axis = 1)\n",
    "\n",
    "amenities_dummies = value_df['amenities'].str.get_dummies(sep = ',')\n",
    "amenities_dummies.columns = \"amenities__\"+amenities_dummies.columns\n",
    "X = pd.concat([value_df.drop('amenities', axis =1),amenities_dummies], axis = 1).drop('review_scores_value' ,axis = 1)\n",
    "\n",
    "X_train, X_test, y_train, y_test = train_test_split(X, y, test_size =0.3,random_state= 42)"
   ]
  },
  {
   "cell_type": "code",
   "execution_count": 19,
   "id": "increasing-camera",
   "metadata": {
    "execution": {
     "iopub.execute_input": "2021-05-27T08:02:38.939597Z",
     "iopub.status.busy": "2021-05-27T08:02:38.938696Z",
     "iopub.status.idle": "2021-05-27T08:02:39.133373Z",
     "shell.execute_reply": "2021-05-27T08:02:39.132696Z",
     "shell.execute_reply.started": "2021-05-27T07:52:02.974132Z"
    },
    "papermill": {
     "duration": 0.236372,
     "end_time": "2021-05-27T08:02:39.133566",
     "exception": false,
     "start_time": "2021-05-27T08:02:38.897194",
     "status": "completed"
    },
    "tags": []
   },
   "outputs": [
    {
     "name": "stdout",
     "output_type": "stream",
     "text": [
      "0.18131850610943867\n",
      "0.05930763481542545\n",
      "                    X_group                 X_sub      coef  coef_abs\n",
      "18            property_type                  Dorm  0.671028  0.671028\n",
      "64   neighbourhood_cleansed           Laurelhurst  0.631926  0.631926\n",
      "115  neighbourhood_cleansed        Yesler Terrace  0.617212  0.617212\n",
      "93   neighbourhood_cleansed             Riverview -0.573326  0.573326\n",
      "101  neighbourhood_cleansed            South Park -0.520179  0.520179\n",
      "119                bed_type         Pull-out Sofa  0.477122  0.477122\n",
      "117                bed_type                 Couch  0.422522  0.422522\n",
      "22            property_type                  Tent  0.408138  0.408138\n",
      "118                bed_type                 Futon  0.401420  0.401420\n",
      "15            property_type             Camper/RV -0.381045  0.381045\n",
      "122       host_is_superhost                     t  0.324547  0.324547\n",
      "120                bed_type              Real Bed  0.304313  0.304313\n",
      "13            property_type              Bungalow  0.295469  0.295469\n",
      "160               amenities       Smoking Allowed -0.231939  0.231939\n",
      "153               amenities          Other pet(s) -0.216126  0.216126\n",
      "128               amenities             Breakfast  0.119191  0.119191\n",
      "152               amenities  Lock on Bedroom Door  0.108142  0.108142\n",
      "28                room_type           Shared room  0.059543  0.059543\n",
      "4                      beds                  beds  0.053704  0.053704\n",
      "27                room_type          Private room -0.048205  0.048205\n"
     ]
    }
   ],
   "source": [
    "\n",
    "model = LinearRegression()\n",
    "model.fit(X_train,y_train)\n",
    "print(model.score(X_train,y_train))\n",
    "print(model.score(X_test,y_test))\n",
    "coef = pd.DataFrame({\"X\":X_train.columns.str.split(\"__\"), \"coef\":model.coef_ })\n",
    "coef['coef_abs'] = coef['coef'].abs()\n",
    "coef['X_group']= coef['X'].apply(lambda x:x[0])\n",
    "coef['X_sub'] = coef['X'].apply(lambda x:x[-1])\n",
    "\n",
    "group_name_list = coef['X_group'].unique()\n",
    "\n",
    "coef_top5 = pd.DataFrame()\n",
    "for var in group_name_list:\n",
    "    coef_top5 = coef_top5.append(coef[coef['X_group'] == var].sort_values(\"coef_abs\",ascending = False)[:4])\n",
    "coef_top5 =coef_top5.sort_values(\"coef_abs\", ascending = False)    \n",
    "\n",
    "coef_top20 = coef_top5[['X_group', 'X_sub', 'coef', 'coef_abs']].head(20)\n",
    "print(coef_top20)"
   ]
  },
  {
   "cell_type": "markdown",
   "id": "waiting-psychiatry",
   "metadata": {
    "papermill": {
     "duration": 0.033565,
     "end_time": "2021-05-27T08:02:39.201105",
     "exception": false,
     "start_time": "2021-05-27T08:02:39.167540",
     "status": "completed"
    },
    "tags": []
   },
   "source": [
    "The model accuracy isnot good enough, but we can still find some usefull information."
   ]
  }
 ],
 "metadata": {
  "kernelspec": {
   "display_name": "Python 3",
   "language": "python",
   "name": "python3"
  },
  "language_info": {
   "codemirror_mode": {
    "name": "ipython",
    "version": 3
   },
   "file_extension": ".py",
   "mimetype": "text/x-python",
   "name": "python",
   "nbconvert_exporter": "python",
   "pygments_lexer": "ipython3",
   "version": "3.9.5"
  },
  "papermill": {
   "default_parameters": {},
   "duration": 19.970971,
   "end_time": "2021-05-27T08:02:40.726708",
   "environment_variables": {},
   "exception": null,
   "input_path": "__notebook__.ipynb",
   "output_path": "__notebook__.ipynb",
   "parameters": {},
   "start_time": "2021-05-27T08:02:20.755737",
   "version": "2.3.3"
  },
  "toc-autonumbering": false,
  "toc-showcode": false,
  "toc-showmarkdowntxt": false
 },
 "nbformat": 4,
 "nbformat_minor": 5
}
